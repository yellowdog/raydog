{
 "cells": [
  {
   "cell_type": "markdown",
   "id": "b4b714ad-c965-43a8-a23e-ce2b4a514527",
   "metadata": {},
   "source": [
    "# RayDog Cluster Demo"
   ]
  },
  {
   "cell_type": "code",
   "execution_count": null,
   "id": "bed583c3-1e25-4bda-b94a-adbf34f70ad6",
   "metadata": {},
   "outputs": [],
   "source": [
    "import random\n",
    "\n",
    "from datetime import datetime, timedelta\n",
    "from os import getenv\n",
    "from time import sleep\n",
    "\n",
    "import dotenv\n",
    "import ray\n",
    "\n",
    "from raydog.raydog import RayDogCluster"
   ]
  },
  {
   "cell_type": "code",
   "execution_count": null,
   "id": "405c923d-d976-4427-a271-deda35e22234",
   "metadata": {},
   "outputs": [],
   "source": [
    "NODE_SETUP_SCRIPT = r\"\"\"#!/usr/bin/bash\n",
    "\n",
    "set -euo pipefail\n",
    "\n",
    "echo \"Installing the YellowDog agent\"\n",
    "cd /root || exit\n",
    "curl -LsSf https://raw.githubusercontent.com/yellowdog/resources/refs/heads/main/agent-install/linux/yd-agent-installer.sh \\\n",
    "      | bash &> /dev/null\n",
    "\n",
    "################################################################################\n",
    "YD_AGENT_USER=\"yd-agent\"\n",
    "YD_AGENT_HOME=\"/opt/yellowdog/agent\"\n",
    "\n",
    "echo \"Adding $YD_AGENT_USER to passwordless sudoers\"\n",
    "\n",
    "ADMIN_GRP=\"sudo\"\n",
    "usermod -aG $ADMIN_GRP $YD_AGENT_USER\n",
    "echo -e \"$YD_AGENT_USER\\tALL=(ALL)\\tNOPASSWD: ALL\" > \\\n",
    "        /etc/sudoers.d/020-$YD_AGENT_USER\n",
    "\n",
    "################################################################################\n",
    "echo \"Adding public SSH key for $YD_AGENT_USER\"\n",
    "\n",
    "mkdir -p $YD_AGENT_HOME/.ssh\n",
    "chmod og-rwx $YD_AGENT_HOME/.ssh\n",
    "\n",
    "# Insert the required public key below\n",
    "cat >> $YD_AGENT_HOME/.ssh/authorized_keys << EOM\n",
    "ssh-rsa AAAAB3NzaC1yc2EAAAADAQABAAABgQDBAwA8lQurxJh2m9zyB6A/QG7/0jRYQQgH0zJg\\\n",
    "Tr8+uGdYJs4hpbsU43jqfdiOY9gBN35j2LFfHHsYxJmFkFXh2DQn3+WZhzxYzPOiSIBtNnHmRY3j\\\n",
    "71wJbNUX1kF4VyifiaiuPviJd0YKD/y0UnhZKBs4EQQB9qPzpcSoixcLa6hgh5gqY8yA+BuI4dgK\\\n",
    "5SG2t5seujJ45bT67HvCeFYShFXPsvB9KwhptBF1Hd961+AoXO8IVXSEKBnrTTecbeFgc0V2vRqO\\\n",
    "TNdSiWrD71mij3NUd3dzp+9qepDZaNtNXMJ8jnF2nzk43JvrRzteWJlyya+63/bvdq/jj7jLH3tN\\\n",
    "pcyNw16YmctpjKr7uKc4k6gEa3b7YaELwX8g1xGQib95RXuzvef7qduDAbQbvadbvM97iohaeWMM\\\n",
    "7uh1rNM6qsVdyGd1FUVNFiPUqsQ5sQhRdnryu/lF10hDArGkhu+tmwQEFsp2ymFlaVexKWB/Q20q\\\n",
    "A0bE4yNXbZF4WUdBJzc= pwt@pwt-mbp-14.local\n",
    "EOM\n",
    "\n",
    "chmod og-rw $YD_AGENT_HOME/.ssh/authorized_keys\n",
    "chown -R $YD_AGENT_USER:$YD_AGENT_USER $YD_AGENT_HOME/.ssh\n",
    "\n",
    "################################################################################\n",
    "\n",
    "echo \"Installing 'uv'\"\n",
    "export HOME=$YD_AGENT_HOME\n",
    "curl -LsSf https://astral.sh/uv/install.sh | sh &> /dev/null\n",
    "source $HOME/.local/bin/env\n",
    "\n",
    "PYTHON_VERSION=\"3.12.10\"\n",
    "echo \"Installing Python v$PYTHON_VERSION and creating Python virtual environment\"\n",
    "VENV=$YD_AGENT_HOME/venv\n",
    "uv venv --python $PYTHON_VERSION $VENV\n",
    "VIRTUAL_ENV_DISABLE_PROMPT=true\n",
    "source $VENV/bin/activate\n",
    "\n",
    "echo \"Installing Ray\"\n",
    "uv pip install ray[client]\n",
    "\n",
    "echo \"Setting file/directory ownership to $YD_AGENT_USER\"\n",
    "chown -R $YD_AGENT_USER:$YD_AGENT_USER $YD_AGENT_HOME/.local $VENV $YD_AGENT_HOME/.cache\n",
    "\n",
    "################################################################################\n",
    "\n",
    "echo \"Disabling firewall\"\n",
    "ufw disable &> /dev/null\n",
    "\n",
    "# Note: the Agent configuration script will restart the Agent\n",
    "\"\"\""
   ]
  },
  {
   "cell_type": "markdown",
   "id": "cb45602b-434f-4c84-a9cd-61fda2d6bdae",
   "metadata": {},
   "source": [
    "# Configure the RayDogCluster object"
   ]
  },
  {
   "cell_type": "code",
   "execution_count": null,
   "id": "545ab2a3-b18f-4c2a-8639-fd61daafb526",
   "metadata": {},
   "outputs": [],
   "source": [
    "dotenv.load_dotenv(verbose=True, override=True)\n",
    "timestamp = str(datetime.timestamp(datetime.now())).replace(\".\", \"-\")\n",
    "raydog_cluster = RayDogCluster(\n",
    "    yd_application_key_id=getenv(\"YD_API_KEY_ID\"),\n",
    "    yd_application_key_secret=getenv(\"YD_API_KEY_SECRET\"),\n",
    "    cluster_name=f\"raytest-{timestamp}\",  # Names the WP, WR and worker tag\n",
    "    cluster_namespace=\"pwt-ray\",\n",
    "    head_node_compute_requirement_template_id=\"yd-demo/yd-demo-aws-eu-west-2-split-ondemand\",\n",
    "    head_node_images_id=\"ami-0fef583e486727263\",  # Ubuntu 22.04, AMD64, eu-west-2\n",
    "    cluster_tag=\"my-ray-tag\",\n",
    "    head_node_userdata=NODE_SETUP_SCRIPT,\n",
    "    cluster_lifetime=timedelta(seconds=7200),\n",
    ")"
   ]
  },
  {
   "cell_type": "markdown",
   "id": "a2a7097a-1ca0-4ac7-ac05-ba7b5d9b79d6",
   "metadata": {},
   "source": [
    "# Add Ray worker node worker pools"
   ]
  },
  {
   "cell_type": "code",
   "execution_count": null,
   "id": "2fdfd225-440f-4b42-af17-211090363014",
   "metadata": {},
   "outputs": [],
   "source": [
    "for _ in range(2):\n",
    "    raydog_cluster.add_worker_pool(\n",
    "        worker_node_compute_requirement_template_id=\"yd-demo/yd-demo-aws-eu-west-2-split-ondemand\",\n",
    "        worker_pool_node_count=2,\n",
    "        worker_node_images_id=\"ami-0fef583e486727263\",\n",
    "        worker_node_userdata=NODE_SETUP_SCRIPT,\n",
    "        worker_node_metrics_enabled=True,\n",
    "    )"
   ]
  },
  {
   "cell_type": "markdown",
   "id": "81900501-048e-4317-a760-717d309ec2b0",
   "metadata": {},
   "source": [
    "# Build the Ray cluster: head node plus any worker node worker pools already added"
   ]
  },
  {
   "cell_type": "code",
   "execution_count": null,
   "id": "7e4fe3ac-55ea-4f6d-a7a8-d836e2990ffa",
   "metadata": {},
   "outputs": [],
   "source": [
    "private_ip, public_ip = raydog_cluster.build(head_node_build_timeout=timedelta(seconds=300))\n",
    "cluster_address = f\"ray://{public_ip}:10001\""
   ]
  },
  {
   "cell_type": "markdown",
   "id": "261169c2-6589-41a9-881a-5bbc0e9cb062",
   "metadata": {},
   "source": [
    "# Provision additional Ray worker node worker pools"
   ]
  },
  {
   "cell_type": "code",
   "execution_count": null,
   "id": "f822f2fb-caca-4453-81e7-c09ed00548b1",
   "metadata": {},
   "outputs": [],
   "source": [
    "for _ in range(2):\n",
    "    raydog_cluster.add_worker_pool(\n",
    "        worker_node_compute_requirement_template_id=\"yd-demo/yd-demo-aws-eu-west-2-split-ondemand\",\n",
    "        worker_pool_node_count=2,\n",
    "        worker_node_images_id=\"ami-0fef583e486727263\",\n",
    "        worker_node_userdata=NODE_SETUP_SCRIPT,\n",
    "        worker_node_metrics_enabled=True,\n",
    "    )"
   ]
  },
  {
   "cell_type": "code",
   "execution_count": null,
   "id": "c1346baf-3c2f-4be2-9f50-624bfcb68879",
   "metadata": {},
   "outputs": [],
   "source": [
    "sleep(120)"
   ]
  },
  {
   "cell_type": "markdown",
   "id": "bc31d74a-d4ba-4dc6-b270-061564bc1280",
   "metadata": {},
   "source": [
    "# Remove one of the worker node worker pools at random"
   ]
  },
  {
   "cell_type": "code",
   "execution_count": null,
   "id": "2d0e4397-7372-460a-9146-d7a3e1efede3",
   "metadata": {},
   "outputs": [],
   "source": [
    "raydog_cluster.remove_worker_pool(random.choice(raydog_cluster.worker_pool_ids))"
   ]
  },
  {
   "cell_type": "code",
   "execution_count": null,
   "id": "4e17646b-fc55-4db6-a5c8-6e75e2a5f40e",
   "metadata": {},
   "outputs": [],
   "source": [
    "sleep(30)"
   ]
  },
  {
   "cell_type": "markdown",
   "id": "2b005783-439d-4328-b450-886401047421",
   "metadata": {},
   "source": [
    "# Run a simple Ray job against the cluster"
   ]
  },
  {
   "cell_type": "code",
   "execution_count": null,
   "id": "d488e302-5052-46b6-8ce7-de74f4eeef01",
   "metadata": {},
   "outputs": [],
   "source": [
    "# Simple Ray cluster interrogation\n",
    "import json\n",
    "ray.init(address=cluster_address)\n",
    "print(json.dumps(ray.nodes(), indent=2))\n",
    "ray.shutdown()"
   ]
  },
  {
   "cell_type": "markdown",
   "id": "1238abf4-59af-499f-ae28-81ce0dfc2944",
   "metadata": {},
   "source": [
    "# Shut down the Ray cluster"
   ]
  },
  {
   "cell_type": "code",
   "execution_count": null,
   "id": "ecbb76cb-1f0b-4b07-81c2-f506b36a31eb",
   "metadata": {},
   "outputs": [],
   "source": [
    "raydog_cluster.shut_down()"
   ]
  }
 ],
 "metadata": {
  "kernelspec": {
   "display_name": "Python 3 (ipykernel)",
   "language": "python",
   "name": "python3"
  },
  "language_info": {
   "codemirror_mode": {
    "name": "ipython",
    "version": 3
   },
   "file_extension": ".py",
   "mimetype": "text/x-python",
   "name": "python",
   "nbconvert_exporter": "python",
   "pygments_lexer": "ipython3",
   "version": "3.12.10"
  }
 },
 "nbformat": 4,
 "nbformat_minor": 5
}
